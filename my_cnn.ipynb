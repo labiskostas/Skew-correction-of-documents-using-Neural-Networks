{
  "cells": [
    {
      "cell_type": "markdown",
      "metadata": {
        "id": "Vq0EfQiCkPKq"
      },
      "source": [
        " Importing Librares"
      ]
    },
    {
      "cell_type": "code",
      "execution_count": null,
      "metadata": {
        "id": "5blxqBppmWDc"
      },
      "outputs": [],
      "source": [
        "import numpy as np\n",
        "from matplotlib import pyplot as plt\n",
        "import cv2\n",
        "import tensorflow as tf\n",
        "import keras\n",
        "import os\n",
        "from tqdm import tqdm\n",
        "from keras.preprocessing.image import img_to_array\n",
        "import pandas as pd\n",
        "from tensorflow.keras.layers import BatchNormalization\n",
        "import random\n",
        "import cv2  \n",
        "import imutils\n",
        "from skimage import color\n",
        "from skimage import io\n"
      ]
    },
    {
      "cell_type": "markdown",
      "metadata": {
        "id": "UCnVCEsjkUb6"
      },
      "source": [
        "# Data Preprocessing"
      ]
    },
    {
      "cell_type": "markdown",
      "metadata": {
        "id": "_cDv6r-skcke"
      },
      "source": [
        "## X_Data"
      ]
    },
    {
      "cell_type": "code",
      "execution_count": null,
      "metadata": {
        "id": "_SR6p5sJmclZ"
      },
      "outputs": [],
      "source": [
        "SIZE= 250\n",
        "Path1='/content/drive/MyDrive/διπλωματικη/data/my data/images'\n",
        "Path2='/content/drive/MyDrive/διπλωματικη/data/my data/moires/file.csv'\n",
        "files=os.listdir(Path1)\n",
        "train_y = []\n",
        "eikones=[]\n"
      ]
    },
    {
      "cell_type": "code",
      "execution_count": null,
      "metadata": {
        "id": "R-f9s-WVmgWK"
      },
      "outputs": [],
      "source": [
        "for i in tqdm(range(1,3398)):\n",
        "  i=str(i)\n",
        "  image=cv2.imread(Path1+'/'+'image-'+i+'.png',0)\n",
        "  image = imutils.rotate(image, angle= 180)\n",
        "  img=cv2.resize(image,(SIZE, SIZE))\n",
        "  train_y.append(img_to_array(img))\n",
        "  eikones.append(image)"
      ]
    },
    {
      "cell_type": "code",
      "execution_count": null,
      "metadata": {
        "id": "MaBXjcnVcEgx"
      },
      "outputs": [],
      "source": [
        "image_array = np.reshape(train_y, (len(train_y), SIZE, SIZE, 1))\n",
        "image_array = image_array.astype('float32') / 255.\n",
        "train_array= image_array[:3000,:,:]\n",
        "test_array=image_array[3001:3300,:,:]\n",
        "val_array=image_array[3301:,:,:]"
      ]
    },
    {
      "cell_type": "markdown",
      "metadata": {
        "id": "WuZylntSkhWT"
      },
      "source": [
        "### Show my images"
      ]
    },
    {
      "cell_type": "code",
      "execution_count": null,
      "metadata": {
        "id": "Kz7TlH7OmmDs"
      },
      "outputs": [],
      "source": [
        "figure =plt.figure(dpi=1200)\n",
        "plt.subplot(231)\n",
        "plt.title('Sample 1')\n",
        "plt.imshow(eikones[0], cmap='gray',origin=\"lower\")\n",
        "plt.axis(\"off\")\n",
        "plt.subplot(232)\n",
        "plt.title('Sample 2')\n",
        "plt.imshow(eikones[1], cmap='gray',origin=\"lower\")\n",
        "plt.axis(\"off\")\n",
        "plt.subplot(233)\n",
        "plt.title('Sample 3')\n",
        "plt.imshow(eikones[3001], cmap='gray',origin=\"lower\")\n",
        "plt.axis(\"off\")\n",
        "plt.subplot(234)\n",
        "plt.title('Sample 4')\n",
        "plt.imshow(eikones[3002], cmap='gray',origin=\"lower\")\n",
        "plt.axis(\"off\")\n",
        "plt.show()"
      ]
    },
    {
      "cell_type": "markdown",
      "metadata": {
        "id": "SKJ96d5ZkmLJ"
      },
      "source": [
        "## Y_Data"
      ]
    },
    {
      "cell_type": "code",
      "execution_count": null,
      "metadata": {
        "id": "HJuEP7DcbT8V"
      },
      "outputs": [],
      "source": [
        "dataset = pd.read_csv(Path2)\n",
        "y = dataset.iloc[:, -1].values\n",
        "y=-y\n"
      ]
    },
    {
      "cell_type": "code",
      "execution_count": null,
      "metadata": {
        "id": "cAvRpINI1G3f"
      },
      "outputs": [],
      "source": [
        "for i in range(0,3398):\n",
        "  print(y[i])"
      ]
    },
    {
      "cell_type": "code",
      "execution_count": null,
      "metadata": {
        "id": "ncR_ZjLwbyDV"
      },
      "outputs": [],
      "source": [
        "train_y_array= y[:3000]\n",
        "test_y_array=y[3001:3300]\n",
        "val_y_array=y[3301:]\n",
        "\n"
      ]
    },
    {
      "cell_type": "markdown",
      "metadata": {
        "id": "wP1T6aNWkwoZ"
      },
      "source": [
        "# Model"
      ]
    },
    {
      "cell_type": "code",
      "execution_count": null,
      "metadata": {
        "id": "XJVt_lsTC2R5"
      },
      "outputs": [],
      "source": [
        "import tensorflow as tf\n",
        "import keras\n",
        "import matplotlib.pyplot as plt\n",
        "import numpy\n",
        "from keras.layers import Input\n",
        "from keras.layers import UpSampling2D\n",
        "from keras.layers.convolutional import Conv2D, Conv2DTranspose \n",
        "from keras.layers.pooling import MaxPooling2D\n",
        "from keras.models import Model\n",
        "from tensorflow.keras.callbacks import ModelCheckpoint, EarlyStopping, CSVLogger,ReduceLROnPlateau\n",
        "import pickle"
      ]
    },
    {
      "cell_type": "code",
      "execution_count": null,
      "metadata": {
        "id": "6VsXnvqq6MWM"
      },
      "outputs": [],
      "source": [
        "from keras.layers.core import activation\n",
        "from tensorflow.keras.layers import BatchNormalization\n",
        "SIZE=250\n",
        "input= Input(shape=(SIZE,SIZE,1))\n",
        "c= Conv2D(256,(3,3),strides=(1,1),padding='same',activation='relu')(input)\n",
        "c=BatchNormalization()(c)\n",
        "c=MaxPooling2D(pool_size=(2,2), strides=(2,2))(c)\n",
        "c= Conv2D(128,(3,3),strides=(1,1),padding='same',activation='relu')(c)\n",
        "c=BatchNormalization()(c)\n",
        "c=MaxPooling2D(pool_size=(2,2), strides=(2,2))(c)\n",
        "c= Conv2D(64,(3,3),strides=(1,1),padding='same',activation='relu')(c)\n",
        "c=BatchNormalization()(c)\n",
        "c=MaxPooling2D(pool_size=(2,2), strides=(2,2))(c)\n",
        "c=Conv2D(filters=64, kernel_size=(3, 3),activation='relu', padding='same')(c)\n",
        "c= tf.keras.layers.GlobalMaxPooling2D()(c)\n",
        "c=tf.keras.layers.Flatten()(c)\n",
        "c=tf.keras.layers.Dense(512, activation='relu')(c)\n",
        "c=tf.keras.layers.Dropout(0.1)(c)\n",
        "c=tf.keras.layers.Dense(256, activation='relu')(c)\n",
        "c=tf.keras.layers.Dropout(0.2)(c)\n",
        "c=tf.keras.layers.Dense(64, activation='relu')(c)\n",
        "c=tf.keras.layers.Dropout(0.2)(c)\n",
        "output=tf.keras.layers.Dense(1, activation=tf.keras.activations.linear)(c)\n",
        "myfriend= Model(inputs=input,outputs=output)\n",
        "myfriend.summary()\n",
        "\n"
      ]
    },
    {
      "cell_type": "markdown",
      "metadata": {
        "id": "iCubz9G3k04h"
      },
      "source": [
        "# Fit My Model"
      ]
    },
    {
      "cell_type": "code",
      "execution_count": null,
      "metadata": {
        "id": "AL3hzVPzJDmS"
      },
      "outputs": [],
      "source": [
        "optimizer = tf.keras.optimizers.Adam(lr=0.001)\n",
        "myfriend.compile(optimizer = optimizer,loss = 'mse')\n",
        "callbacks= [EarlyStopping(monitor='loss',patience=10,verbose=1,restore_best_weights=True),CSVLogger('/content/drive/MyDrive/διπλωματικη/models/Logmyfriend.csv'),ReduceLROnPlateau(monitor=\"val_loss\",factor=0.5,patience=10,verbose=1,min_lr=0.0002)]\n",
        "results=myfriend.fit(train_array,train_y_array,batch_size=24,epochs=100,callbacks=callbacks,validation_split=0.1)"
      ]
    },
    {
      "cell_type": "markdown",
      "metadata": {
        "id": "HuYWPX9eX9-b"
      },
      "source": [
        "# Feature visualization 1"
      ]
    },
    {
      "cell_type": "code",
      "execution_count": null,
      "metadata": {
        "id": "0gm-eTu3YFQX"
      },
      "outputs": [],
      "source": [
        "layer_names = [layer.name for layer in myfriend.layers]\n",
        "layer_names"
      ]
    },
    {
      "cell_type": "code",
      "execution_count": null,
      "metadata": {
        "id": "arZzxBR5YLhc"
      },
      "outputs": [],
      "source": [
        "layer_outputs = [layer.output for layer in myfriend.layers]\n",
        "layer_outputs"
      ]
    },
    {
      "cell_type": "code",
      "execution_count": null,
      "metadata": {
        "id": "gIP084FsYSUN"
      },
      "outputs": [],
      "source": [
        "feature_map_model = tf.keras.models.Model(inputs=myfriend.input, outputs=layer_outputs)"
      ]
    },
    {
      "cell_type": "code",
      "execution_count": null,
      "metadata": {
        "id": "CLnTgzTtYdls"
      },
      "outputs": [],
      "source": [
        "image_path='/content/drive/MyDrive/διπλωματικη/data/chech.png'\n",
        "image=cv2.imread(image_path,0)\n",
        "image=cv2.resize(image,(250, 250))\n",
        "input=img_to_array(image)\n",
        "input = np.reshape(input, (1, SIZE, SIZE, 1))\n",
        "input = input.astype('float32') / 255.0\n"
      ]
    },
    {
      "cell_type": "code",
      "execution_count": null,
      "metadata": {
        "id": "k481a4FXcPsG"
      },
      "outputs": [],
      "source": [
        "feature_maps = feature_map_model.predict(input)"
      ]
    },
    {
      "cell_type": "code",
      "execution_count": null,
      "metadata": {
        "id": "95-L2qGtcXT4"
      },
      "outputs": [],
      "source": [
        "for layer_name, feature_map in zip(layer_names, feature_maps):\n",
        "  print(f\"The shape of the {layer_name} is =======>> {feature_map.shape}\")"
      ]
    },
    {
      "cell_type": "code",
      "execution_count": null,
      "metadata": {
        "colab": {
          "background_save": true
        },
        "id": "Pgd1SYmodVeq"
      },
      "outputs": [],
      "source": [
        "for layer_name, feature_map in zip(layer_names, feature_maps):  \n",
        "  if len(feature_map.shape) == 4:\n",
        "      k = feature_map.shape[-1]  \n",
        "      size=feature_map.shape[1]\n",
        "      image_belt = np.zeros((size, size*k),np.uint8)\n",
        "      for i in range(k):\n",
        "        feature_image = feature_map[0, :, :, i]\n",
        "        feature_image-= feature_image.mean()\n",
        "        feature_image/= feature_image.std ()\n",
        "        feature_image*=  64\n",
        "        feature_image+= 128\n",
        "        feature_image= np.clip(feature_image, 0, 255).astype('uint8')\n",
        "        image_belt[:, i * size : (i + 1) * size] = feature_image\n",
        "        scale = 20. / k\n",
        "        plt.figure( figsize=(scale * k, scale) )\n",
        "        plt.title ( layer_name )\n",
        "        plt.grid  ( False )\n",
        "        plt.imshow( image_belt,cmap='gray')\n",
        "      #columns = size\n",
        "      #rows = size\n",
        "      #for ftr in feature_map:\n",
        "        #fig=plt.figure(figsize=(12, 12))\n",
        "        #for i in range(1,k):\n",
        "          #fig =plt.subplot(rows, columns, i)\n",
        "          #fig.set_xticks([])  #Turn off axis\n",
        "          #fig.set_yticks([])\n",
        "          #plt.imshow(ftr[ :, :, i-1], cmap='gray')\n",
        "          \n",
        "        #plt.show()"
      ]
    },
    {
      "cell_type": "markdown",
      "metadata": {
        "id": "KiYXGVw-k5-5"
      },
      "source": [
        "# Prediction"
      ]
    },
    {
      "cell_type": "code",
      "execution_count": null,
      "metadata": {
        "id": "O2G-TG2W7P9R"
      },
      "outputs": [],
      "source": [
        "test_img_input=np.expand_dims(test_array[2], 0)\n",
        "pred = myfriend.predict(test_img_input)\n",
        "#angle=sc.inverse_transform(pred)[0][0]\n",
        "#print(angle)\n",
        "print('original degrees:',test_y_array[2])\n",
        "#angle=round(pred,0)\n",
        "print('predicted degrees:',pred)\n",
        "  \n",
        " "
      ]
    },
    {
      "cell_type": "markdown",
      "source": [
        "## Average Error Deviation"
      ],
      "metadata": {
        "id": "bHqKAdLA9DdA"
      }
    },
    {
      "cell_type": "markdown",
      "source": [
        "### Known Data"
      ],
      "metadata": {
        "id": "ziJfri7r9UmJ"
      }
    },
    {
      "cell_type": "code",
      "execution_count": null,
      "metadata": {
        "id": "b6Lpk2NfyA1S"
      },
      "outputs": [],
      "source": [
        "from sklearn.preprocessing import StandardScaler\n",
        "import math\n",
        "MAE=0\n",
        "#scaler = StandardScaler()\n",
        "for i in tqdm(range(0,3000)):\n",
        "  test_img_input=np.expand_dims(train_array[i], 0)\n",
        "  pred = myfriend.predict(test_img_input)\n",
        "#angle=sca.inverse_transform(pred)[0][0]\n",
        "  #print(pred)\n",
        "#angle=round(pred,0)\n",
        "#print(prend)\n",
        "  \n",
        "  U=train_y_array[i]-pred\n",
        "  tet=abs(U)\n",
        "  \n",
        "  MAE=MAE+tet\n",
        "\n",
        "print(MAE)"
      ]
    },
    {
      "cell_type": "code",
      "execution_count": null,
      "metadata": {
        "id": "xMQcccIT5x76"
      },
      "outputs": [],
      "source": [
        "print(MAE/3000)"
      ]
    },
    {
      "cell_type": "markdown",
      "source": [
        "### Unknown Data"
      ],
      "metadata": {
        "id": "bn9sywuH9f38"
      }
    },
    {
      "cell_type": "code",
      "source": [
        "from sklearn.preprocessing import StandardScaler\n",
        "import math\n",
        "MSE_t=0\n",
        "#scaler = StandardScaler()\n",
        "for i in tqdm(range(0,299)):\n",
        "  test_img_input=np.expand_dims(test_array[i], 0)\n",
        "  pred = myfriend.predict(test_img_input)\n",
        "#angle=sca.inverse_transform(pred)[0][0]\n",
        "  #print(pred)\n",
        "#angle=round(pred,0)\n",
        "#print(prend)\n",
        "  \n",
        "  U_t=test_y_array[i]-pred\n",
        "  tet=abs(U_t)\n",
        "  \n",
        "  MSE_t=MSE_t+tet\n",
        "print(MSE_t)"
      ],
      "metadata": {
        "id": "37TuEmIVVEu9"
      },
      "execution_count": null,
      "outputs": []
    },
    {
      "cell_type": "code",
      "source": [
        "print(MSE_t/299)"
      ],
      "metadata": {
        "id": "StkpJEUyVXmo"
      },
      "execution_count": null,
      "outputs": []
    },
    {
      "cell_type": "markdown",
      "source": [
        "##TOP 80"
      ],
      "metadata": {
        "id": "fG4GqExz9nWX"
      }
    },
    {
      "cell_type": "markdown",
      "source": [
        "### Known Data"
      ],
      "metadata": {
        "id": "MfTc5g6292rP"
      }
    },
    {
      "cell_type": "code",
      "source": [
        "known_data=[]"
      ],
      "metadata": {
        "id": "IUwxz4C59_ZM"
      },
      "execution_count": null,
      "outputs": []
    },
    {
      "cell_type": "code",
      "source": [
        "from sklearn.preprocessing import StandardScaler\n",
        "import math\n",
        "MΑE=0\n",
        "#scaler = StandardScaler()\n",
        "for i in tqdm(range(0,3000)):\n",
        "  test_img_input=np.expand_dims(train_array[i], 0)\n",
        "  pred = myfriend.predict(test_img_input)\n",
        "#angle=sca.inverse_transform(pred)[0][0]\n",
        "  #print(pred)\n",
        "#angle=round(pred,0)\n",
        "#print(prend)\n",
        "  \n",
        "  U=train_y_array[i]-pred\n",
        "  tet=abs(U)\n",
        "  known_data.append(tet)"
      ],
      "metadata": {
        "id": "nZIZ6wNa9z2d"
      },
      "execution_count": null,
      "outputs": []
    },
    {
      "cell_type": "code",
      "source": [
        "print(known_data)"
      ],
      "metadata": {
        "id": "wJPYkDky-eu6"
      },
      "execution_count": null,
      "outputs": []
    },
    {
      "cell_type": "code",
      "source": [
        "known_data.sort()"
      ],
      "metadata": {
        "id": "-jQLd348D4F2"
      },
      "execution_count": null,
      "outputs": []
    },
    {
      "cell_type": "code",
      "source": [
        "for i in range(0,3000):\n",
        "  print(known_data[i])"
      ],
      "metadata": {
        "id": "1IioJVxkD82J"
      },
      "execution_count": null,
      "outputs": []
    },
    {
      "cell_type": "code",
      "source": [
        "Top80=[]"
      ],
      "metadata": {
        "id": "oRKJZafpEzaR"
      },
      "execution_count": null,
      "outputs": []
    },
    {
      "cell_type": "code",
      "source": [
        "for i in range(0,2400):\n",
        "  Top80.append(known_data[i])"
      ],
      "metadata": {
        "id": "A1aeU4XREfKC"
      },
      "execution_count": null,
      "outputs": []
    },
    {
      "cell_type": "code",
      "source": [
        "print(len(Top80))"
      ],
      "metadata": {
        "id": "sbzYojc_FAQt"
      },
      "execution_count": null,
      "outputs": []
    },
    {
      "cell_type": "code",
      "source": [
        "Top80_1=0\n",
        "for i in range(0,2400):\n",
        "  Top80_1=Top80_1 + Top80[i]"
      ],
      "metadata": {
        "id": "bFk2-ZfLFRr6"
      },
      "execution_count": null,
      "outputs": []
    },
    {
      "cell_type": "code",
      "source": [
        "print(Top80_1/2400)"
      ],
      "metadata": {
        "id": "myIaWxZaFl_7"
      },
      "execution_count": null,
      "outputs": []
    },
    {
      "cell_type": "code",
      "execution_count": null,
      "metadata": {
        "id": "sObSOh3ky6At"
      },
      "outputs": [],
      "source": [
        "add=0\n",
        "\n",
        "for i in tqdm(range(0,299)):\n",
        "  test_img_input=np.expand_dims(test_array[i], 0)\n",
        "  pred = myfriend.predict(test_img_input)\n",
        "  U=abs(test_y_array[i]-pred)\n",
        "  if U>5 :\n",
        "    add=add+1\n",
        "    \n",
        "print(add)\n",
        "\n",
        "\n"
      ]
    },
    {
      "cell_type": "code",
      "execution_count": null,
      "metadata": {
        "id": "ZOxJcL_H5cn8"
      },
      "outputs": [],
      "source": [
        "print(len(brisko))"
      ]
    },
    {
      "cell_type": "code",
      "source": [
        "loss = results.history['loss']\n",
        "val_loss = results.history['val_loss']\n",
        "epochs = range(1, len(loss) + 1)\n",
        "plt.plot(epochs, loss, 'y', label='Training loss')\n",
        "plt.plot(epochs, val_loss, 'r', label='Validation loss')\n",
        "plt.title('Training and validation loss')\n",
        "plt.xlabel('Epochs')\n",
        "plt.ylabel('Loss')\n",
        "plt.legend()\n",
        "plt.show()"
      ],
      "metadata": {
        "id": "Iwk6LnC8IEQS"
      },
      "execution_count": null,
      "outputs": []
    }
  ],
  "metadata": {
    "accelerator": "GPU",
    "colab": {
      "collapsed_sections": [
        "u-HsFurMM3AN",
        "KZoUWJ99NcTa",
        "0wgsD9b3WFGg",
        "KwETTmfXWOyz",
        "HuYWPX9eX9-b"
      ],
      "machine_shape": "hm",
      "provenance": []
    },
    "gpuClass": "standard",
    "kernelspec": {
      "display_name": "Python 3",
      "name": "python3"
    },
    "language_info": {
      "name": "python"
    }
  },
  "nbformat": 4,
  "nbformat_minor": 0
}