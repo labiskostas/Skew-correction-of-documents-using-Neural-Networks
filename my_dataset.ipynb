{
  "cells": [
    {
      "cell_type": "code",
      "execution_count": null,
      "metadata": {
        "id": "guqTH0Al8nnz"
      },
      "outputs": [],
      "source": [
        "import numpy as np\n",
        "from matplotlib import pyplot as plt\n",
        "import cv2\n",
        "import tensorflow as tf\n",
        "import keras\n",
        "import os\n",
        "from tqdm import tqdm\n",
        "from keras.preprocessing.image import img_to_array\n",
        "import pandas as pd\n",
        "from tensorflow.keras.layers import BatchNormalization\n",
        "import random\n",
        "import cv2  \n",
        "import imutils\n",
        "from skimage import color\n",
        "from skimage import io\n",
        "import pickle\n",
        "import csv"
      ]
    },
    {
      "cell_type": "code",
      "execution_count": null,
      "metadata": {
        "id": "iRJPsnul9H--"
      },
      "outputs": [],
      "source": [
        "SIZE= 500\n",
        "Path='/content/drive/MyDrive/διπλωματικη/data/ScriptNet-HistoricalWI-2017-binarized.zip (Unzipped Files)/ScriptNet-HistoricalWI-2017-binarized'\n",
        "files=os.listdir(Path)"
      ]
    },
    {
      "cell_type": "code",
      "execution_count": null,
      "metadata": {
        "id": "z081UYpi9L7a"
      },
      "outputs": [],
      "source": [
        "import random\n",
        "import cv2  \n",
        "import imutils"
      ]
    },
    {
      "cell_type": "code",
      "execution_count": null,
      "metadata": {
        "id": "6lIZmnPY9OGd"
      },
      "outputs": [],
      "source": [
        "train = []\n",
        "eikones=[]\n",
        "moires=[]\n",
        "diastaseis=[]\n",
        "json_dict=[[]*2for i in range(3399)]\n",
        "y=0"
      ]
    },
    {
      "cell_type": "code",
      "source": [
        "for i in tqdm(files):\n",
        "  image=cv2.imread(Path+'/'+i,0)\n",
        "  image = color.rgb2gray(image)\n",
        "  s = max(image.shape[0:2])\n",
        "    #Creating a dark square with NUMPY  \n",
        "  f = np.zeros((s,s),np.uint8)\n",
        "    #Getting the centering position\n",
        "  ax,ay = (s - image.shape[1])//2,(s - image.shape[0])//2\n",
        "    #Pasting the 'image' in a centering position\n",
        "  f[ay:image.shape[0]+ay,ax:ax+image.shape[1]] = image\n",
        "  image = f \n",
        "  y=str(y)\n",
        "  io.imsave('/content/drive/MyDrive/διπλωματικη/data/my data/original/original_image-'+y+'.png',image)\n",
        "  im_name= 'image-' + y\n",
        "  y=int(y)\n",
        "  y=y+1"
      ],
      "metadata": {
        "id": "B_0sawTDPYjn"
      },
      "execution_count": null,
      "outputs": []
    },
    {
      "cell_type": "code",
      "execution_count": null,
      "metadata": {
        "colab": {
          "background_save": true
        },
        "id": "OE92hcZB9Qld"
      },
      "outputs": [],
      "source": [
        "for i in tqdm(files):\n",
        "  image=cv2.imread(Path+'/'+i,0)\n",
        "  image = color.rgb2gray(image)\n",
        "  s = max(image.shape[0:2])\n",
        "    #Creating a dark square with NUMPY  \n",
        "  f = np.zeros((s,s),np.uint8)\n",
        "    #Getting the centering position\n",
        "  ax,ay = (s - image.shape[1])//2,(s - image.shape[0])//2\n",
        "    #Pasting the 'image' in a centering position\n",
        "  f[ay:image.shape[0]+ay,ax:ax+image.shape[1]] = image\n",
        "  image = f \n",
        "  angle = random.randint(-45, 45)\n",
        "  image = imutils.rotate(image, angle= angle)\n",
        "  y=str(y)\n",
        "  io.imsave('/content/drive/MyDrive/διπλωματικη/data/my data/images/image-'+y+'.png',image)\n",
        "  im_name= 'image-' + y\n",
        "  json_dict=np.append(im_name,angle)\n",
        "  y=int(y)\n",
        "  y=y+1"
      ]
    },
    {
      "cell_type": "code",
      "execution_count": null,
      "metadata": {
        "id": "Lg78tawlt-Gz"
      },
      "outputs": [],
      "source": [
        "print(json_dict)\n",
        "print(len(json_dict))"
      ]
    },
    {
      "cell_type": "code",
      "execution_count": null,
      "metadata": {
        "id": "3cLyB6eSEyGC"
      },
      "outputs": [],
      "source": [
        "with open(\"/content/drive/MyDrive/διπλωματικη/data/my data/moires/file.csv\", \"w\", newline=\"\") as f:\n",
        "    writer = csv.writer(f)\n",
        "    writer.writerows(json_dict)"
      ]
    }
  ],
  "metadata": {
    "accelerator": "GPU",
    "colab": {
      "machine_shape": "hm",
      "provenance": []
    },
    "gpuClass": "standard",
    "kernelspec": {
      "display_name": "Python 3",
      "name": "python3"
    },
    "language_info": {
      "name": "python"
    }
  },
  "nbformat": 4,
  "nbformat_minor": 0
}